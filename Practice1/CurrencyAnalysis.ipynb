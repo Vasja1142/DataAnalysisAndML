{
 "cells": [
  {
   "cell_type": "code",
   "execution_count": 8,
   "metadata": {},
   "outputs": [
    {
     "name": "stderr",
     "output_type": "stream",
     "text": [
      "C:\\Users\\vasja\\AppData\\Local\\Temp\\ipykernel_20540\\1409230493.py:62: UserWarning: Parsing dates in %d/%m/%Y format when dayfirst=False (the default) was specified. Pass `dayfirst=True` or specify a format to silence this warning.\n",
      "  date_end_picker = DatePicker(description='Дата конца', value=pd.to_datetime(end_date))\n"
     ]
    },
    {
     "data": {
      "application/vnd.jupyter.widget-view+json": {
       "model_id": "b185da07b2004ecaa92074cfc10748b5",
       "version_major": 2,
       "version_minor": 0
      },
      "text/plain": [
       "interactive(children=(DatePicker(value=Timestamp('2023-01-01 00:00:00'), description='Дата начала'), DatePicke…"
      ]
     },
     "metadata": {},
     "output_type": "display_data"
    }
   ],
   "source": [
    "import requests\n",
    "import xml.etree.ElementTree as ET\n",
    "import pandas as pd\n",
    "import matplotlib.pyplot as plt\n",
    "from ipywidgets import interact, IntSlider, DatePicker\n",
    "import matplotlib.dates as mdates\n",
    "from datetime import datetime\n",
    "from matplotlib.dates import DateFormatter\n",
    "\n",
    "# Функция для получения данных с ЦБ РФ за определённый период\n",
    "def get_currency_data(start_date, end_date):\n",
    "    url = f'https://www.cbr.ru/scripts/XML_dynamic.asp?date_req1={start_date}&date_req2={end_date}&VAL_NM_RQ=R01235'\n",
    "    response = requests.get(url)\n",
    "    tree = ET.ElementTree(ET.fromstring(response.content))\n",
    "    root = tree.getroot()\n",
    "\n",
    "    data = []\n",
    "    for record in root.findall('Record'):\n",
    "        date = record.attrib['Date']\n",
    "        value = float(record.find('Value').text.replace(',', '.'))\n",
    "        data.append([date, value])\n",
    "\n",
    "    df = pd.DataFrame(data, columns=['Date', 'USD/RUB'])\n",
    "    df['Date'] = pd.to_datetime(df['Date'], format='%d.%m.%Y')\n",
    "    df.set_index('Date', inplace=True)\n",
    "    return df\n",
    "\n",
    "# Задаем диапазон дат для получения исторических данных\n",
    "start_date = '01/01/2023'  # формат: дд/мм/гггг\n",
    "end_date = datetime.now().strftime('%d/%m/%Y')   # формат: дд/мм/гггг\n",
    "\n",
    "# Загружаем данные за указанный период только один раз\n",
    "df = get_currency_data(start_date, end_date)\n",
    "\n",
    "\n",
    "# Функция для построения графика\n",
    "def plot_currency(start_date, end_date):\n",
    "    plt.clf()  # Очищаем фигуру перед перерисовкой\n",
    "    \n",
    "    fig, ax = plt.subplots(figsize=(10, 6))\n",
    "    \n",
    "    # Фильтрация данных в зависимости от ползунка\n",
    "    df_filtered = df.loc[start_date:end_date]\n",
    "    \n",
    "    ax.plot(df_filtered.index, df_filtered['USD/RUB'], marker='o', color='blue')\n",
    "    \n",
    "    # Форматирование графика\n",
    "    ax.set_title('Курс USD к RUB по данным ЦБ РФ')\n",
    "    ax.set_xlabel('Дата')\n",
    "    ax.set_ylabel('Курс')\n",
    "    ax.grid(True)\n",
    "\n",
    "    # Настраиваем формат отображения дат на оси X\n",
    "    ax.xaxis.set_major_locator(mdates.WeekdayLocator(interval=1))  # Отображаем каждую неделю\n",
    "    ax.xaxis.set_major_formatter(DateFormatter(\"%d-%m-%Y\"))\n",
    "    plt.xticks(rotation=45, ha='right')\n",
    "\n",
    "    plt.show()\n",
    "\n",
    "# Создаем ползунки для выбора диапазона дат\n",
    "date_start_picker = DatePicker(description='Дата начала', value=pd.to_datetime(start_date))\n",
    "date_end_picker = DatePicker(description='Дата конца', value=pd.to_datetime(end_date))\n",
    "\n",
    "interact(plot_currency, start_date=date_start_picker, end_date=date_end_picker);\n",
    "\n"
   ]
  }
 ],
 "metadata": {
  "kernelspec": {
   "display_name": "base",
   "language": "python",
   "name": "python3"
  },
  "language_info": {
   "codemirror_mode": {
    "name": "ipython",
    "version": 3
   },
   "file_extension": ".py",
   "mimetype": "text/x-python",
   "name": "python",
   "nbconvert_exporter": "python",
   "pygments_lexer": "ipython3",
   "version": "3.12.4"
  }
 },
 "nbformat": 4,
 "nbformat_minor": 2
}
