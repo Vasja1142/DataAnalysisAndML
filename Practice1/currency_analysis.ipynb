{
 "cells": [
  {
   "cell_type": "markdown",
   "metadata": {},
   "source": [
    "# Анализ курса валют\n",
    "\n",
    "## 1. Введение\n",
    "\n",
    "Этот Jupyter Notebook демонстрирует получение, обработку и визуализацию данных о курсе доллара США к российскому рублю, используя данные Центрального банка Российской Федерации.\n",
    "\n",
    "## 2. Импорт библиотек"
   ]
  },
  {
   "cell_type": "code",
   "execution_count": 2,
   "metadata": {},
   "outputs": [],
   "source": [
    "import requests\n",
    "import xml.etree.ElementTree as ET\n",
    "import pandas as pd\n",
    "import matplotlib.pyplot as plt\n",
    "import matplotlib.dates as mdates\n",
    "from ipywidgets import interact, DatePicker\n",
    "from datetime import datetime, timedelta"
   ]
  },
  {
   "cell_type": "markdown",
   "metadata": {},
   "source": [
    "## 3. Константы и настройки"
   ]
  },
  {
   "cell_type": "code",
   "execution_count": 3,
   "metadata": {},
   "outputs": [],
   "source": [
    "# URL для запроса данных с ЦБ РФ (шаблон)\n",
    "CURRENCY_URL_TEMPLATE = \"https://www.cbr.ru/scripts/XML_dynamic.asp?date_req1={start_date}&date_req2={end_date}&VAL_NM_RQ=R01235\"\n",
    "\n",
    "# Форматы даты\n",
    "DATE_FORMAT = \"%d.%m.%Y\"\n",
    "DATE_FORMAT_REQUEST = \"%d/%m/%Y\"\n",
    "\n",
    "# Период для загрузки данных (по умолчанию - 1 год)\n",
    "DEFAULT_PERIOD = timedelta(days=365)"
   ]
  },
  {
   "cell_type": "markdown",
   "metadata": {},
   "source": [
    "## 4. Функция для получения данных"
   ]
  },
  {
   "cell_type": "code",
   "execution_count": 4,
   "metadata": {},
   "outputs": [],
   "source": [
    "def fetch_currency_data(start_date, end_date):\n",
    "    \"\"\"\n",
    "    Получает данные о курсе валюты с сайта ЦБ РФ.\n",
    "\n",
    "    Args:\n",
    "        start_date (str): Дата начала в формате DD/MM/YYYY.\n",
    "        end_date (str): Дата окончания в формате DD/MM/YYYY.\n",
    "\n",
    "    Returns:\n",
    "        pandas.DataFrame: DataFrame с данными о курсе валюты, \n",
    "                           или пустой DataFrame, если данные не получены.\n",
    "    \"\"\"\n",
    "    url = CURRENCY_URL_TEMPLATE.format(start_date=start_date, end_date=end_date)\n",
    "    try:\n",
    "        response = requests.get(url)\n",
    "        response.raise_for_status()  # Проверка на ошибки HTTP\n",
    "\n",
    "        tree = ET.ElementTree(ET.fromstring(response.content))\n",
    "        root = tree.getroot()\n",
    "\n",
    "        data = []\n",
    "        for record in root.findall('Record'):\n",
    "            date_str = record.attrib['Date']\n",
    "            value_str = record.find('Value').text.replace(',', '.')\n",
    "            try:\n",
    "                date = datetime.strptime(date_str, DATE_FORMAT)\n",
    "                value = float(value_str)\n",
    "                data.append([date, value])\n",
    "            except (ValueError, TypeError):\n",
    "                print(f\"Ошибка при обработке записи: Дата - {date_str}, Значение - {value_str}\")\n",
    "                continue\n",
    "\n",
    "        df = pd.DataFrame(data, columns=['Date', 'USD/RUB'])\n",
    "        df['Date'] = pd.to_datetime(df['Date'])\n",
    "        df.set_index('Date', inplace=True)\n",
    "        return df\n",
    "    except requests.exceptions.RequestException as e:\n",
    "        print(f\"Ошибка при запросе данных: {e}\")\n",
    "        return pd.DataFrame()"
   ]
  },
  {
   "cell_type": "markdown",
   "metadata": {},
   "source": [
    "## 5. Функция для построения графика"
   ]
  },
  {
   "cell_type": "code",
   "execution_count": 5,
   "metadata": {},
   "outputs": [],
   "source": [
    "def plot_currency(start_date, end_date):\n",
    "    \"\"\"Строит график курса валюты.\"\"\"\n",
    "    plt.figure(figsize=(10, 6))  # Размер графика\n",
    "    \n",
    "    df_filtered = df.loc[start_date:end_date]\n",
    "    plt.plot(df_filtered.index, df_filtered['USD/RUB'], marker='o', linestyle='-', color='blue')\n",
    "\n",
    "    plt.title('Курс USD к RUB по данным ЦБ РФ')\n",
    "    plt.xlabel('Дата')\n",
    "    plt.ylabel('Курс')\n",
    "    plt.grid(True)\n",
    "    plt.xticks(rotation=45, ha='right') # Поворот меток на оси X\n",
    "    plt.tight_layout() #  Для предотвращения обрезания меток\n",
    "    plt.show()"
   ]
  },
  {
   "cell_type": "markdown",
   "metadata": {},
   "source": [
    "## 6. Загрузка и отображение данных"
   ]
  },
  {
   "cell_type": "code",
   "execution_count": 6,
   "metadata": {},
   "outputs": [],
   "source": [
    "# Дата окончания - текущая дата\n",
    "end_date_initial = datetime.now()\n",
    "# Дата начала - год назад\n",
    "start_date_initial = end_date_initial - DEFAULT_PERIOD\n",
    "\n",
    "# Преобразование дат в строки для запроса\n",
    "start_date_str = start_date_initial.strftime(DATE_FORMAT_REQUEST)\n",
    "end_date_str = end_date_initial.strftime(DATE_FORMAT_REQUEST)\n",
    "\n",
    "# Загрузка данных\n",
    "df = fetch_currency_data(start_date_str, end_date_str)\n",
    "\n"
   ]
  },
  {
   "cell_type": "markdown",
   "metadata": {},
   "source": [
    "## 7. Описание данных\n",
    "\n",
    "DataFrame `df` содержит данные о курсе USD/RUB за период с {start_date} по {end_date}.  Всего в DataFrame {len(df)} записей.  Значения в столбце 'USD/RUB' представляют собой официальный курс доллара США к российскому рублю, установленный Центральным банком РФ."
   ]
  },
  {
   "cell_type": "code",
   "execution_count": 7,
   "metadata": {},
   "outputs": [
    {
     "data": {
      "application/vnd.jupyter.widget-view+json": {
       "model_id": "021a9f8c5bca4badb93f96b1dad37260",
       "version_major": 2,
       "version_minor": 0
      },
      "text/plain": [
       "interactive(children=(DatePicker(value=datetime.date(2024, 1, 9), description='Дата начала', step=1), DatePick…"
      ]
     },
     "metadata": {},
     "output_type": "display_data"
    }
   ],
   "source": [
    "# Проверка на наличие данных\n",
    "if not df.empty:\n",
    "    # Виджеты для выбора дат\n",
    "    date_start_picker = DatePicker(description='Дата начала', value=start_date_initial.date())\n",
    "    date_end_picker = DatePicker(description='Дата конца', value=end_date_initial.date())\n",
    "\n",
    "    # Интерактивный график\n",
    "    interact(plot_currency, start_date=date_start_picker, end_date=date_end_picker);\n",
    "else:\n",
    "    print(\"Не удалось загрузить данные для построения графика.\")"
   ]
  }
 ],
 "metadata": {
  "kernelspec": {
   "display_name": "dataanalysisandml-j_4XYvtS-py3.12",
   "language": "python",
   "name": "python3"
  },
  "language_info": {
   "codemirror_mode": {
    "name": "ipython",
    "version": 3
   },
   "file_extension": ".py",
   "mimetype": "text/x-python",
   "name": "python",
   "nbconvert_exporter": "python",
   "pygments_lexer": "ipython3",
   "version": "3.12.8"
  }
 },
 "nbformat": 4,
 "nbformat_minor": 2
}
