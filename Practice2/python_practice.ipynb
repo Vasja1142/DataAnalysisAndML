{
 "cells": [
  {
   "cell_type": "markdown",
   "metadata": {
    "id": "64JPlHixec69"
   },
   "source": [
    "# Практика №2\n",
    "\n",
    "1. Сгенерировать, используя модуль псевдослучайных чисел `random`, или ввести с клавиатуры список целых чисел. Вывести в консоль, затем перевернуть его и снова вывести в консоль.\n",
    "\n",
    "2. Сгенерировать, используя модуль псевдослучайных чисел `random`, или ввести с клавиатуры два списка целых чисел. Вывести их в консоль. Создать новый пустой список. Добавить в него все четные (по индексу) элементы первого списка и все нечетные (по индексу) элементы второго списка. Вывести третий список в консоль.\n",
    "\n",
    "3. Сгенерировать, используя модуль псевдослучайных чисел `random`, или ввести с клавиатуры список произвольных элементов (целые числа, числа с плавающей точкой, строки). Вывести в консоль. Убрать из него все дубликаты через приведение типов. Вывести в консоль.\n",
    "\n",
    "4. Сгенерировать, используя модуль псевдослучайных чисел `random`, или ввести с клавиатуры словарь, где ключом является строка, значением — целое число или число с плавающей точкой. Вывести в консоль. Для всех уникальных значений создать кортеж, где первым элементом будет значение, вторым — список связанных с ним ключей. Собрать эти кортежи в список, вывести его в консоль.\n",
    "\n",
    "5. Сгенерировать, используя модуль псевдослучайных чисел `random`, или ввести с клавиатуры два словаря, где ключом является строка, значением — целое число или число с плавающей точкой. Вывести в консоль. Найти пересечения множеств значений словарей. Создать новый словарь, содержащий только те пары ключ-значение, значения из которых входит в пересечение. Вывести в консоль.\n",
    "\n",
    "[Ссылка на документацию функции `random`](https://docs.python.org/3/library/random.html)\n",
    "\n",
    "[Built-in Types](https://docs.python.org/3/library/stdtypes.html?highlight=tuple#tuple)"
   ]
  },
  {
   "cell_type": "markdown",
   "metadata": {
    "id": "HAVFiCLPo28O"
   },
   "source": [
    "## Задание 1"
   ]
  },
  {
   "cell_type": "code",
   "execution_count": 10,
   "metadata": {
    "colab": {
     "base_uri": "https://localhost:8080/"
    },
    "id": "YyusyI57F_6_",
    "outputId": "4b9ddcd2-d059-4023-8bf4-d65847c5b6a7"
   },
   "outputs": [
    {
     "name": "stdout",
     "output_type": "stream",
     "text": [
      "Исходный список: [40, 59, 93, 63, 40, 56, 54, 25, 54, 62]\n",
      "Перевернутый список: [62, 54, 25, 54, 56, 40, 63, 93, 59, 40]\n"
     ]
    }
   ],
   "source": [
    "import random\n",
    "len_list = 10  # Длина генерируемых списков (глобальная переменная)\n",
    "\n",
    "def generate_int_list(k):\n",
    "    \"\"\"Генерирует список из k случайных целых чисел.\"\"\"\n",
    "    return [random.randint(0, 100) for _ in range(k)]  # Расширен диапазон до 100\n",
    "\n",
    "\n",
    "my_list = generate_int_list(len_list)\n",
    "print(\"Исходный список:\", my_list)\n",
    "reversed_list = reverse_list(my_list)\n",
    "print(\"Перевернутый список:\", list(reversed(my_list)))\n"
   ]
  },
  {
   "cell_type": "markdown",
   "metadata": {
    "id": "a1gbYjASfIqJ"
   },
   "source": [
    "## Задание 2"
   ]
  },
  {
   "cell_type": "code",
   "execution_count": 11,
   "metadata": {
    "id": "Q0qL-Z2CGAXx"
   },
   "outputs": [
    {
     "name": "stdout",
     "output_type": "stream",
     "text": [
      "\n",
      "Список 1: [24, 73, 97, 72, 45, 98, 36, 78, 76, 32]\n",
      "Список 2: [2, 54, 7, 17, 89, 37, 88, 11, 0, 13]\n",
      "Результирующий список: [24, 54, 97, 17, 45, 37, 36, 11, 76, 13]\n"
     ]
    }
   ],
   "source": [
    "\n",
    "list1 = generate_int_list(len_list)\n",
    "list2 = generate_int_list(len_list)\n",
    "\n",
    "print(\"\\nСписок 1:\", list1)\n",
    "print(\"Список 2:\", list2)\n",
    "\n",
    "result_list = []\n",
    "for i in range(len_list):\n",
    "    if i % 2 == 0:\n",
    "        result_list.append(list1[i])\n",
    "    else:\n",
    "        result_list.append(list2[i])\n",
    "\n",
    "print(\"Результирующий список:\", result_list)\n",
    "\n",
    "\n"
   ]
  },
  {
   "cell_type": "markdown",
   "metadata": {
    "id": "ZITkT8YUfM8t"
   },
   "source": [
    "## Задание 3"
   ]
  },
  {
   "cell_type": "code",
   "execution_count": 15,
   "metadata": {
    "id": "FIKNuLjQGAsW"
   },
   "outputs": [
    {
     "name": "stdout",
     "output_type": "stream",
     "text": [
      "Оригинальный список: [6.403833133150739, 19.58603704015206, 2.192882729166639, 4.735634324452821, 7, 3.6468934516185905, 14, 9, 'apple', 9]\n",
      "Список без дубликатов: [6.403833133150739, 19.58603704015206, 2.192882729166639, 4.735634324452821, 7, 3.6468934516185905, 14, 9, 'apple']\n"
     ]
    }
   ],
   "source": [
    "\n",
    "def remove_duplicates(my_list):\n",
    "    \"\"\"\n",
    "    Функция для удаления дубликатов из списка, \n",
    "    сравнивая элементы после преобразования их в строки.\n",
    "    \"\"\"\n",
    "    seen = set()  # Множество для хранения уже виденных элементов (в виде строк)\n",
    "    result = []  # Результирующий список без дубликатов\n",
    "\n",
    "    for item in my_list:  # Перебираем каждый элемент в исходном списке\n",
    "        string_item = str(item)  # Преобразуем элемент в строку\n",
    "        if string_item not in seen:  # Проверяем, видели ли мы уже такую строку\n",
    "            seen.add(string_item)  # Добавляем строку в множество seen\n",
    "            result.append(item)  # Добавляем исходный элемент (не строку) в результат\n",
    "    return result  # Возвращаем список без дубликатов\n",
    "\n",
    "\n",
    "# Генерация списка со случайными элементами разных типов:\n",
    "random_type_list = []\n",
    "for _ in range(len_list):  # Создаем 10 случайных элементов\n",
    "    choice = random.random()  # Случайное число от 0 до 1\n",
    "    if choice < 0.33:  # ~33% вероятность целого числа\n",
    "        random_type_list.append(random.randint(1, 20))  # Добавляем случайное целое число\n",
    "    elif choice < 0.66: # ~33% вероятность числа с плавающей точкой\n",
    "        random_type_list.append(random.uniform(1.0, 20.0))  # Добавляем случайное число с плавающей точкой\n",
    "    else:  # ~34% вероятность строки\n",
    "        random_type_list.append(random.choice(['apple', 'banana', 'cherry']))  # Добавляем случайную строку\n",
    "\n",
    "\n",
    "\n",
    "print(\"Оригинальный список:\", random_type_list) # Вывод исходного списка\n",
    "print(\"Список без дубликатов:\", remove_duplicates(random_type_list)) # Вывод списка без дубликатов"
   ]
  },
  {
   "cell_type": "markdown",
   "metadata": {
    "id": "sqvNf2a6fTdY"
   },
   "source": [
    "## Задание 4"
   ]
  },
  {
   "cell_type": "code",
   "execution_count": 16,
   "metadata": {
    "id": "4qaYZ2dMGBEr"
   },
   "outputs": [
    {
     "name": "stdout",
     "output_type": "stream",
     "text": [
      "Исходный словарь: {'key0': 2.1963111407417206, 'key1': 1, 'key2': 5, 'key3': 1, 'key4': 3.215848667079347, 'key5': 3.6750374477014267, 'key6': 1.1248193754706954, 'key7': 2, 'key8': 4.773002009345058, 'key9': 4.017484110017711}\n",
      "Список кортежей: [(2.1963111407417206, ['key0']), (1, ['key1', 'key3']), (5, ['key2']), (3.215848667079347, ['key4']), (3.6750374477014267, ['key5']), (1.1248193754706954, ['key6']), (2, ['key7']), (4.773002009345058, ['key8']), (4.017484110017711, ['key9'])]\n"
     ]
    }
   ],
   "source": [
    "def group_keys_by_value(input_dict):\n",
    "    \"\"\"Группирует ключи словаря по значениям и возвращает список кортежей.\"\"\"\n",
    "\n",
    "    value_to_keys = {}  # Словарь для хранения значений и связанных с ними ключей\n",
    "\n",
    "    for key, value in input_dict.items():\n",
    "        if value not in value_to_keys:\n",
    "            value_to_keys[value] = []  # Создаем новый список для значения, если его еще нет\n",
    "        value_to_keys[value].append(key)  # Добавляем ключ в список\n",
    "\n",
    "    result = [] # Результат -  список кортежей\n",
    "    for value, keys in value_to_keys.items():\n",
    "      result.append((value, keys)) # Добавляем кортеж (значение, список ключей)\n",
    "\n",
    "    return result\n",
    "\n",
    "\n",
    "# Генерация словаря со случайными значениями (или ручной ввод):\n",
    "def generate_random_dict(lenght):\n",
    "    dict = {}\n",
    "    for _ in range(lenght):\n",
    "        key = f\"key{_}\" # создаем ключи key0, key1,...\n",
    "        value_type = random.choice([int, float])\n",
    "        if value_type is int:\n",
    "            dict[key] = random.randint(1, 5) \n",
    "        else:\n",
    "            dict[key] = random.uniform(1.0, 5.0)\n",
    "    return dict\n",
    "        \n",
    "my_dict = generate_random_dict(len_list)\n",
    "print(\"Исходный словарь:\", my_dict)\n",
    "\n",
    "grouped_list = group_keys_by_value(my_dict)\n",
    "print(\"Список кортежей:\", grouped_list)"
   ]
  },
  {
   "cell_type": "markdown",
   "metadata": {
    "id": "3V5mJOBQfYHe"
   },
   "source": [
    "## Задание 5"
   ]
  },
  {
   "cell_type": "code",
   "execution_count": 18,
   "metadata": {
    "id": "7RJzU4DiGBXQ"
   },
   "outputs": [
    {
     "name": "stdout",
     "output_type": "stream",
     "text": [
      "Словарь 1: {'key0': 1.9678910726440368, 'key1': 2.5255710659151682, 'key2': 1, 'key3': 3.874776718908925, 'key4': 1.7209783017018236, 'key5': 3.817965824652017, 'key6': 4, 'key7': 1.9625298632500763, 'key8': 5, 'key9': 2.717736194856618}\n",
      "Словарь 2: {'key0': 2.4393528081999283, 'key1': 1.0502216981255863, 'key2': 4.733666278945382, 'key3': 3, 'key4': 4.034348693737209, 'key5': 4, 'key6': 3.8906662787902655, 'key7': 3.3746398362828725, 'key8': 3.2830177978219126, 'key9': 3.0610166416826066}\n",
      "Словарь с пересекающимися значениями: {'key6': 4, 'key5': 4}\n"
     ]
    }
   ],
   "source": [
    "def find_intersection_dict(dict1, dict2):\n",
    "    \"\"\"\n",
    "    Находит пересечение значений двух словарей и создает новый словарь \n",
    "    с парами ключ-значение, значения которых входят в пересечение.\n",
    "    \"\"\"\n",
    "\n",
    "    values1 = set(dict1.values())  # Множество значений первого словаря\n",
    "    values2 = set(dict2.values())  # Множество значений второго словаря\n",
    "    intersection = values1.intersection(values2)  # Пересечение множеств значений\n",
    "\n",
    "    result_dict = {}\n",
    "    for key, value in dict1.items():  # Перебираем первый словарь\n",
    "        if value in intersection:\n",
    "            result_dict[key] = value\n",
    "\n",
    "    for key, value in dict2.items():  # Перебираем второй словарь\n",
    "        if value in intersection and key not in result_dict: # Добавляем ключи из dict2, которых нет в dict1\n",
    "            result_dict[key] = value\n",
    "\n",
    "    return result_dict\n",
    "\n",
    "\n",
    "# Генерация двух словарей со случайными значениями:\n",
    "dict1 = generate_random_dict(len_list)\n",
    "dict2 = generate_random_dict(len_list)\n",
    "\n",
    "\n",
    "print(\"Словарь 1:\", dict1)\n",
    "print(\"Словарь 2:\", dict2)\n",
    "\n",
    "intersection_dict = find_intersection_dict(dict1, dict2)\n",
    "print(\"Словарь с пересекающимися значениями:\", intersection_dict)"
   ]
  }
 ],
 "metadata": {
  "colab": {
   "collapsed_sections": [
    "HAVFiCLPo28O"
   ],
   "provenance": [],
   "toc_visible": true
  },
  "kernelspec": {
   "display_name": "Python 3",
   "name": "python3"
  },
  "language_info": {
   "codemirror_mode": {
    "name": "ipython",
    "version": 3
   },
   "file_extension": ".py",
   "mimetype": "text/x-python",
   "name": "python",
   "nbconvert_exporter": "python",
   "pygments_lexer": "ipython3",
   "version": "3.12.7"
  }
 },
 "nbformat": 4,
 "nbformat_minor": 0
}
