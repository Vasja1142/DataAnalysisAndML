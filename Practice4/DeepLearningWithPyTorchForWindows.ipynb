{
 "cells": [
  {
   "cell_type": "markdown",
   "metadata": {},
   "source": [
    "### Импорт библиотеки"
   ]
  },
  {
   "cell_type": "code",
   "execution_count": 2,
   "metadata": {},
   "outputs": [],
   "source": [
    "import torch\n",
    "import torch.nn as nn"
   ]
  },
  {
   "cell_type": "markdown",
   "metadata": {},
   "source": [
    "**Создаем модель Sequential и определяем все слои в один \"заход\"**"
   ]
  },
  {
   "cell_type": "code",
   "execution_count": 3,
   "metadata": {},
   "outputs": [],
   "source": [
    "model = nn.Sequential(\n",
    " nn.Linear(764, 100),\n",
    " nn.ReLU(),\n",
    " nn.Linear(100, 50),\n",
    " nn.ReLU(),\n",
    " nn.Linear(50, 10),\n",
    " nn.Sigmoid()\n",
    ")"
   ]
  },
  {
   "cell_type": "markdown",
   "metadata": {},
   "source": [
    "**Исследование модели**"
   ]
  },
  {
   "cell_type": "code",
   "execution_count": 4,
   "metadata": {},
   "outputs": [
    {
     "name": "stdout",
     "output_type": "stream",
     "text": [
      "Sequential(\n",
      "  (0): Linear(in_features=764, out_features=100, bias=True)\n",
      "  (1): ReLU()\n",
      "  (2): Linear(in_features=100, out_features=50, bias=True)\n",
      "  (3): ReLU()\n",
      "  (4): Linear(in_features=50, out_features=10, bias=True)\n",
      "  (5): Sigmoid()\n",
      ")\n"
     ]
    }
   ],
   "source": [
    "print(model)"
   ]
  },
  {
   "cell_type": "markdown",
   "metadata": {},
   "source": [
    "**Весь объект модели сохраняем в файле pickle.**"
   ]
  },
  {
   "cell_type": "code",
   "execution_count": 5,
   "metadata": {},
   "outputs": [],
   "source": [
    "torch.save(model, \"my_model.pickle\")"
   ]
  },
  {
   "cell_type": "markdown",
   "metadata": {},
   "source": [
    "**Извлечение модели**"
   ]
  },
  {
   "cell_type": "code",
   "execution_count": 6,
   "metadata": {},
   "outputs": [],
   "source": [
    "torch.save(model.state_dict(), \"my_model.pickle\")"
   ]
  },
  {
   "cell_type": "markdown",
   "metadata": {},
   "source": [
    "### Имплементация модели LSTM в PyTorch"
   ]
  },
  {
   "cell_type": "code",
   "execution_count": 7,
   "metadata": {},
   "outputs": [],
   "source": [
    "import torch\n",
    "import torch.nn as nn\n",
    "class LSTMModel(nn.Module):  \n",
    "    # input_d - количество ожидаемых признаков на входе. hidden_d - количество признаков в скрытом состоянии.\n",
    "    def __init__(self, input_d, hidden_d, layer_d, output_d): \n",
    "\n",
    "        super(LSTMModel, self).__init__()\n",
    "\n",
    "        # Определяем количество скрытых измерений и слоев\n",
    "        self.hidden_dim = hidden_d\n",
    "        self.layer_dim = layer_d\n",
    "\n",
    "        # LSTM model\n",
    "        self.lstm = nn.LSTM(input_d, hidden_d, layer_d, batch_first=True)\n",
    "\n",
    "        # Определяем слой считывания с помощью функции fc().\n",
    "        self.fc = nn.Linear(hidden_d, output_d)\n",
    "\n",
    "    # Определяем функцию forward для создания прямого прохода для модели LSTM\n",
    "    def forward(self, x):\n",
    "\n",
    "        # Инициализируем скрытое состояние нулями при помощи zeros.\n",
    "        h0 = torch.zeros(self.layer_dim, x.size(0), self.hidden_dim).requires_grad_()\n",
    "\n",
    "        # Инициализируем состояние ячеек нулями при помощи zeros.\n",
    "        c0 = torch.zeros(self.layer_dim, x.size(0), self.hidden_dim).requires_grad_()\n",
    "\n",
    "        # Этот шаг выполняется тридцать раз. Мы отсоединяемся (detach), когда усекаем (truncate)\n",
    "        # Backpropagation through time (BPTT - Градиентная методика обучения некоторых типов RNN). Если мы\n",
    "        # не производим truncate, то вернемся к началу.\n",
    "        out, (hn, cn) = self.lstm(x, (h0.detach(), c0.detach()))\n",
    "        out = self.fc(out[:, -1, :])\n",
    "        return out\n",
    "\n",
    "# Объявляются переменные и создается объект модели LSTM.\n",
    "input_dim = 30\n",
    "hidden_dim = 120\n",
    "output_dim = 15\n",
    "layer_dim = 1\n",
    "model = LSTMModel(input_dim, hidden_dim, layer_dim, output_dim)\n"
   ]
  },
  {
   "cell_type": "markdown",
   "metadata": {},
   "source": [
    "**После инстанцирования модели мы инстанцируем потери (instantiation), вычисляя кросс-энтропийные\n",
    "потери. Следующий фрагмент кода демонстрирует это:**"
   ]
  },
  {
   "cell_type": "code",
   "execution_count": 8,
   "metadata": {},
   "outputs": [],
   "source": [
    "error = nn.CrossEntropyLoss()"
   ]
  },
  {
   "cell_type": "markdown",
   "metadata": {},
   "source": [
    "**Далее мы инстанцируем оптимизатор с помощью SGD-оптимизатора:**"
   ]
  },
  {
   "cell_type": "code",
   "execution_count": 9,
   "metadata": {},
   "outputs": [],
   "source": [
    "learning_rate = 0.1\n",
    "optimizer = torch.optim.SGD(model.parameters(), lr=learning_rate)"
   ]
  }
 ],
 "metadata": {
  "kernelspec": {
   "display_name": "dataanalysisandml-j_4XYvtS-py3.12",
   "language": "python",
   "name": "python3"
  },
  "language_info": {
   "codemirror_mode": {
    "name": "ipython",
    "version": 3
   },
   "file_extension": ".py",
   "mimetype": "text/x-python",
   "name": "python",
   "nbconvert_exporter": "python",
   "pygments_lexer": "ipython3",
   "version": "3.12.8"
  }
 },
 "nbformat": 4,
 "nbformat_minor": 2
}
